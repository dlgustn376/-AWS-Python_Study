{
 "cells": [
  {
   "cell_type": "code",
   "execution_count": 1,
   "id": "77ad5d81",
   "metadata": {},
   "outputs": [],
   "source": [
    "import numpy as np\n",
    "\n",
    "def my_split(s):\n",
    "    block_start = False\n",
    "    start_index = 0\n",
    "    ret_list=[]\n",
    "    for i, c in enumerate(s):\n",
    "        if block_start==False:\n",
    "            if c==',':\n",
    "                ret_list.append(s[start_index:i])\n",
    "                start_index=i+1\n",
    "            elif c=='\"':\n",
    "                block_start=True\n",
    "                start_index = i\n",
    "        else:\n",
    "            if c=='\"':\n",
    "                block_start=False\n",
    "    if s[-1]!=',':\n",
    "        ret_list.append(s[start_index:])\n",
    "    return ret_list\n",
    "\n",
    "def split_len(data_list):\n",
    "    len_list=[]\n",
    "    for e in data_list:\n",
    "        len_list.append(len(e))\n",
    "    print(set(len_list))\n",
    "    if len(set(len_list))>1:\n",
    "        for i in set(len_list):\n",
    "            print(i, len_list.count(i))\n",
    "    return set(len_list)"
   ]
  },
  {
   "cell_type": "code",
   "execution_count": 2,
   "id": "f998423b",
   "metadata": {},
   "outputs": [
    {
     "ename": "FileNotFoundError",
     "evalue": "[Errno 2] No such file or directory: '전국공인중개사사무소표준데이터.csv'",
     "output_type": "error",
     "traceback": [
      "\u001b[1;31m---------------------------------------------------------------------------\u001b[0m",
      "\u001b[1;31mFileNotFoundError\u001b[0m                         Traceback (most recent call last)",
      "Cell \u001b[1;32mIn[2], line 2\u001b[0m\n\u001b[0;32m      1\u001b[0m csv_data\u001b[38;5;241m=\u001b[39m[]\n\u001b[1;32m----> 2\u001b[0m \u001b[38;5;28;01mwith\u001b[39;00m \u001b[38;5;28;43mopen\u001b[39;49m\u001b[43m(\u001b[49m\u001b[38;5;124;43m'\u001b[39;49m\u001b[38;5;124;43m전국공인중개사사무소표준데이터.csv\u001b[39;49m\u001b[38;5;124;43m'\u001b[39;49m\u001b[43m)\u001b[49m \u001b[38;5;28;01mas\u001b[39;00m f:\n\u001b[0;32m      3\u001b[0m     \u001b[38;5;28;01mfor\u001b[39;00m line \u001b[38;5;129;01min\u001b[39;00m f:\n\u001b[0;32m      4\u001b[0m         csv_data\u001b[38;5;241m.\u001b[39mappend(my_split(line[:\u001b[38;5;241m-\u001b[39m\u001b[38;5;241m1\u001b[39m]))\n",
      "File \u001b[1;32m~\\AppData\\Local\\Programs\\Python\\Python310\\lib\\site-packages\\IPython\\core\\interactiveshell.py:282\u001b[0m, in \u001b[0;36m_modified_open\u001b[1;34m(file, *args, **kwargs)\u001b[0m\n\u001b[0;32m    275\u001b[0m \u001b[38;5;28;01mif\u001b[39;00m file \u001b[38;5;129;01min\u001b[39;00m {\u001b[38;5;241m0\u001b[39m, \u001b[38;5;241m1\u001b[39m, \u001b[38;5;241m2\u001b[39m}:\n\u001b[0;32m    276\u001b[0m     \u001b[38;5;28;01mraise\u001b[39;00m \u001b[38;5;167;01mValueError\u001b[39;00m(\n\u001b[0;32m    277\u001b[0m         \u001b[38;5;124mf\u001b[39m\u001b[38;5;124m\"\u001b[39m\u001b[38;5;124mIPython won\u001b[39m\u001b[38;5;124m'\u001b[39m\u001b[38;5;124mt let you open fd=\u001b[39m\u001b[38;5;132;01m{\u001b[39;00mfile\u001b[38;5;132;01m}\u001b[39;00m\u001b[38;5;124m by default \u001b[39m\u001b[38;5;124m\"\u001b[39m\n\u001b[0;32m    278\u001b[0m         \u001b[38;5;124m\"\u001b[39m\u001b[38;5;124mas it is likely to crash IPython. If you know what you are doing, \u001b[39m\u001b[38;5;124m\"\u001b[39m\n\u001b[0;32m    279\u001b[0m         \u001b[38;5;124m\"\u001b[39m\u001b[38;5;124myou can use builtins\u001b[39m\u001b[38;5;124m'\u001b[39m\u001b[38;5;124m open.\u001b[39m\u001b[38;5;124m\"\u001b[39m\n\u001b[0;32m    280\u001b[0m     )\n\u001b[1;32m--> 282\u001b[0m \u001b[38;5;28;01mreturn\u001b[39;00m io_open(file, \u001b[38;5;241m*\u001b[39margs, \u001b[38;5;241m*\u001b[39m\u001b[38;5;241m*\u001b[39mkwargs)\n",
      "\u001b[1;31mFileNotFoundError\u001b[0m: [Errno 2] No such file or directory: '전국공인중개사사무소표준데이터.csv'"
     ]
    }
   ],
   "source": [
    "csv_data=[]\n",
    "with open('전국공인중개사사무소표준데이터.csv') as f:\n",
    "    for line in f:\n",
    "        csv_data.append(my_split(line[:-1]))\n",
    "\n",
    "assert len(split_len(csv_data)) == 1\n",
    "\n",
    "np_data = np.array(csv_data)\n",
    "for e in enumerate(np_data[0]):\n",
    "    print(e)"
   ]
  },
  {
   "cell_type": "code",
   "execution_count": 3,
   "id": "f372abea",
   "metadata": {},
   "outputs": [
    {
     "ename": "NameError",
     "evalue": "name 'np_data' is not defined",
     "output_type": "error",
     "traceback": [
      "\u001b[1;31m---------------------------------------------------------------------------\u001b[0m",
      "\u001b[1;31mNameError\u001b[0m                                 Traceback (most recent call last)",
      "Cell \u001b[1;32mIn[3], line 1\u001b[0m\n\u001b[1;32m----> 1\u001b[0m \u001b[38;5;28mprint\u001b[39m(\u001b[43mnp_data\u001b[49m[:\u001b[38;5;241m3\u001b[39m])\n",
      "\u001b[1;31mNameError\u001b[0m: name 'np_data' is not defined"
     ]
    }
   ],
   "source": [
    "print(np_data[:3])"
   ]
  },
  {
   "cell_type": "code",
   "execution_count": 23,
   "id": "e45721f2",
   "metadata": {},
   "outputs": [
    {
     "name": "stdout",
     "output_type": "stream",
     "text": [
      "['개업공인중개사' '공인중개사' '법인']\n",
      "[ 5085 23757   527]\n",
      "[17.31417481 80.89141612  1.79440907]\n"
     ]
    }
   ],
   "source": [
    "btypes = np_data[1:, 2]\n",
    "#print(btypes[:3])\n",
    "btype_name, btype_count = np.unique(btypes, return_counts=True)\n",
    "print(btype_name)\n",
    "print(btype_count)\n",
    "print(btype_count*100 / np.sum(btype_count))"
   ]
  },
  {
   "cell_type": "code",
   "execution_count": 26,
   "id": "2aac10df",
   "metadata": {},
   "outputs": [
    {
     "data": {
      "text/plain": [
       "(array(['N', 'Y'], dtype='<U74'), array([   30, 29339], dtype=int64))"
      ]
     },
     "execution_count": 26,
     "metadata": {},
     "output_type": "execute_result"
    }
   ],
   "source": [
    "y_n = np_data[1:, 7]\n",
    "np.unique(y_n, return_counts=True)"
   ]
  },
  {
   "cell_type": "code",
   "execution_count": 27,
   "id": "fab32955",
   "metadata": {},
   "outputs": [],
   "source": [
    "names = np_data[1:, 0]\n",
    "name_head = []\n",
    "else_list = []\n",
    "for n in names:\n",
    "    n = n.replace(' ', '')\n",
    "    if '공인중개사' in n:\n",
    "        name_head.append(n[:n.index('공인중개사')])\n",
    "    else:\n",
    "        else_list.append(n)"
   ]
  },
  {
   "cell_type": "code",
   "execution_count": null,
   "id": "6db9df16",
   "metadata": {},
   "outputs": [],
   "source": [
    "#print(name_head[:10])\n",
    "name, name_count = np.unique(name_head, return_counts=True)\n",
    "names = sorted(zip(name, name_count), key=lambda x: x[1], reverse=True)\n",
    "#print(names[:10])\n",
    "\n",
    "print(len(else_list))\n",
    "print(else_list[:10])"
   ]
  },
  {
   "cell_type": "code",
   "execution_count": null,
   "id": "20aa5863",
   "metadata": {},
   "outputs": [],
   "source": [
    "# 00 부동산중개... 에서 인기있는 00 이름\n",
    "name2 = []\n",
    "else2 = []\n",
    "for n in else_list:\n",
    "    if '부동산중개' in n:\n",
    "        name2.append(n[:n.index('부동산중개')])\n",
    "    else:\n",
    "        else2.append(n)"
   ]
  },
  {
   "cell_type": "code",
   "execution_count": null,
   "id": "5c9343e2",
   "metadata": {},
   "outputs": [],
   "source": [
    "x, x_count = np.unique(name2, return_counts = True)\n",
    "x_result = sorted(zip(x,x_count), key=lambda i: i[1], reverse=True)\n",
    "x_result[:20]"
   ]
  }
 ],
 "metadata": {
  "kernelspec": {
   "display_name": "Python 3 (ipykernel)",
   "language": "python",
   "name": "python3"
  },
  "language_info": {
   "codemirror_mode": {
    "name": "ipython",
    "version": 3
   },
   "file_extension": ".py",
   "mimetype": "text/x-python",
   "name": "python",
   "nbconvert_exporter": "python",
   "pygments_lexer": "ipython3",
   "version": "3.10.9"
  }
 },
 "nbformat": 4,
 "nbformat_minor": 5
}
